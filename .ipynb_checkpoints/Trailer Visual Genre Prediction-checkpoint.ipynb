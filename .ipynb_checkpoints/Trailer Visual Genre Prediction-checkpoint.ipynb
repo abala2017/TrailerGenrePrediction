{
 "cells": [
  {
   "cell_type": "markdown",
   "metadata": {},
   "source": [
    "# Imports"
   ]
  },
  {
   "cell_type": "code",
   "execution_count": 72,
   "metadata": {},
   "outputs": [],
   "source": [
    "import numpy as np\n",
    "import tensorflow as tf\n",
    "import cv2\n",
    "import os\n",
    "from sklearn.preprocessing import LabelEncoder\n",
    "import pandas as pd"
   ]
  },
  {
   "cell_type": "markdown",
   "metadata": {},
   "source": [
    "# Data Exploration\n",
    "## So first before we go onto the model, let's look at the data\n",
    "Since our input X is going to be extremely large with almost 300 movie trailers, lets instead load in the average of each movie trailer and get a feel for our data"
   ]
  },
  {
   "cell_type": "code",
   "execution_count": 9,
   "metadata": {},
   "outputs": [],
   "source": [
    "avgtrailers = []\n",
    "for filename in os.listdir('MovieTrailers'):\n",
    "    cap = cv2.VideoCapture('MovieTrailers' + '/' + filename)\n",
    "    trailer = []\n",
    "    while cap.isOpened():\n",
    "        ret, frame = cap.read()\n",
    "        if ret == True:\n",
    "            trailer.append(frame)\n",
    "        else:\n",
    "            break\n",
    "    avgtrailer = np.around(np.mean(trailer,axis = 0)).astype(np.uint8)\n",
    "    cap.release()\n",
    "    avgtrailers.append(np.asarray(avgtrailer))"
   ]
  },
  {
   "cell_type": "markdown",
   "metadata": {},
   "source": [
    "Let's Learn a little bit about X, from the code segment below, we can see we have 300 values and each picture is rgb and 144x256 pixels in size"
   ]
  },
  {
   "cell_type": "code",
   "execution_count": 82,
   "metadata": {},
   "outputs": [
    {
     "name": "stdout",
     "output_type": "stream",
     "text": [
      "Number of Examples = 300\n",
      "Size of Picture  = (144, 256, 3)\n"
     ]
    }
   ],
   "source": [
    "print(\"Number of Examples = \" + str(len(avgtrailers)))\n",
    "print(\"Size of Picture  = \" + str(avgtrailers[0].shape))"
   ]
  },
  {
   "cell_type": "markdown",
   "metadata": {},
   "source": [
    "Next we're going to load in the movie id, movie name, trailerurl, and the Genre (our label)\n",
    "Our Genres can be one of three categories : Action, Horror, Comedy"
   ]
  },
  {
   "cell_type": "code",
   "execution_count": 19,
   "metadata": {},
   "outputs": [
    {
     "data": {
      "text/html": [
       "<div>\n",
       "<style scoped>\n",
       "    .dataframe tbody tr th:only-of-type {\n",
       "        vertical-align: middle;\n",
       "    }\n",
       "\n",
       "    .dataframe tbody tr th {\n",
       "        vertical-align: top;\n",
       "    }\n",
       "\n",
       "    .dataframe thead th {\n",
       "        text-align: right;\n",
       "    }\n",
       "</style>\n",
       "<table border=\"1\" class=\"dataframe\">\n",
       "  <thead>\n",
       "    <tr style=\"text-align: right;\">\n",
       "      <th></th>\n",
       "      <th>MovieId</th>\n",
       "      <th>MovieName</th>\n",
       "      <th>TrailerUrl</th>\n",
       "      <th>Genre</th>\n",
       "    </tr>\n",
       "  </thead>\n",
       "  <tbody>\n",
       "    <tr>\n",
       "      <th>0</th>\n",
       "      <td>1</td>\n",
       "      <td>Extraction</td>\n",
       "      <td>https://www.youtube.com/watch?v=L6P3nI6VnlY</td>\n",
       "      <td>Action</td>\n",
       "    </tr>\n",
       "    <tr>\n",
       "      <th>1</th>\n",
       "      <td>2</td>\n",
       "      <td>The Gentleman</td>\n",
       "      <td>https://www.youtube.com/watch?v=Ify9S7hj480</td>\n",
       "      <td>Action</td>\n",
       "    </tr>\n",
       "    <tr>\n",
       "      <th>2</th>\n",
       "      <td>3</td>\n",
       "      <td>Code 8</td>\n",
       "      <td>https://www.youtube.com/watch?v=PrX1JJ5dduA</td>\n",
       "      <td>Action</td>\n",
       "    </tr>\n",
       "    <tr>\n",
       "      <th>3</th>\n",
       "      <td>4</td>\n",
       "      <td>Avengers: Endgame</td>\n",
       "      <td>https://www.youtube.com/watch?v=TcMBFSGVi1c</td>\n",
       "      <td>Action</td>\n",
       "    </tr>\n",
       "    <tr>\n",
       "      <th>4</th>\n",
       "      <td>5</td>\n",
       "      <td>Star Wars: The Rise of Skywalker</td>\n",
       "      <td>https://www.youtube.com/watch?v=8Qn_spdM5Zg</td>\n",
       "      <td>Action</td>\n",
       "    </tr>\n",
       "  </tbody>\n",
       "</table>\n",
       "</div>"
      ],
      "text/plain": [
       "   MovieId                         MovieName  \\\n",
       "0        1                        Extraction   \n",
       "1        2                     The Gentleman   \n",
       "2        3                            Code 8   \n",
       "3        4                 Avengers: Endgame   \n",
       "4        5  Star Wars: The Rise of Skywalker   \n",
       "\n",
       "                                    TrailerUrl   Genre  \n",
       "0  https://www.youtube.com/watch?v=L6P3nI6VnlY  Action  \n",
       "1  https://www.youtube.com/watch?v=Ify9S7hj480  Action  \n",
       "2  https://www.youtube.com/watch?v=PrX1JJ5dduA  Action  \n",
       "3  https://www.youtube.com/watch?v=TcMBFSGVi1c  Action  \n",
       "4  https://www.youtube.com/watch?v=8Qn_spdM5Zg  Action  "
      ]
     },
     "execution_count": 19,
     "metadata": {},
     "output_type": "execute_result"
    }
   ],
   "source": [
    "label_dataframe = pd.read_csv(\"MovieTrailerData.csv\")\n",
    "label_dataframe.head()"
   ]
  },
  {
   "cell_type": "markdown",
   "metadata": {},
   "source": [
    "Just to make it a little easier to work with let's get the genre and turn it into a matrix of one-hot vectors where:\n",
    "- Action = [1,0,0]\n",
    "- Comedy = [0,1,0]\n",
    "- Horror = [0,0,1]"
   ]
  },
  {
   "cell_type": "code",
   "execution_count": 78,
   "metadata": {},
   "outputs": [],
   "source": [
    "labels = label_dataframe[\"Genre\"].to_numpy()\n",
    "labels.reshape(labels.shape[0],1)\n",
    "labels[0]\n",
    "label_encoder = LabelEncoder()\n",
    "vec = label_encoder.fit_transform(labels)\n",
    "labels = tf.keras.utils.to_categorical(vec)"
   ]
  },
  {
   "cell_type": "markdown",
   "metadata": {},
   "source": [
    "## Let's see a couple of datapoints\n",
    "Let's look at the first couple of datapoints, lets see the average of \"Avengers: Endgame\" (Action) , \"I See You\" (Horror), and \"Jumanji: The Next Level\" (Comedy)"
   ]
  },
  {
   "cell_type": "code",
   "execution_count": 79,
   "metadata": {},
   "outputs": [],
   "source": [
    "cv2.imshow('frame', avgtrailers[3])\n",
    "cv2.waitKey(0)\n",
    "cv2.imwrite('NoteBookData/Avengers.jpg', avgtrailers[3])\n",
    "cv2.imshow('frame',avgtrailers[158])\n",
    "cv2.waitKey(0)\n",
    "cv2.imwrite('NoteBookData/ISeeYou.jpg', avgtrailers[158])\n",
    "cv2.imshow('frame',avgtrailers[202])\n",
    "cv2.waitKey(0)\n",
    "cv2.imwrite('NoteBookData/Jumanji.jpg', avgtrailers[202])\n",
    "cv2.destroyAllWindows()"
   ]
  },
  {
   "cell_type": "markdown",
   "metadata": {},
   "source": [
    "## Avengers: Endgame\n",
    "![Avengers: Endgame](NoteBookData/Avengers.jpg)\n",
    "## I See You\n",
    "![I See You](NoteBookData/ISeeYou.jpg)\n",
    "## Jumanji: The Next Level\n",
    "![Jumanji: The Next Level](NoteBookData/Jumanji.jpg)\n",
    "\n",
    "So what do we notice, Well if you squint you can definitely see the rating for the movie I See You since the rating was kept on for a larger chunk of the trailer, we also see for the Jumanji average, we can see the ending title card. What can we do to remedy this? Do we even need to remedy this? Let's first try and build a simple logistic regression model to predict our genre"
   ]
  },
  {
   "cell_type": "markdown",
   "metadata": {},
   "source": [
    "# Simple Logistic Model (Without Pre-processing out Beginning and Ending Title/Rating/Producer Cards)\n",
    "## What will our model look like?\n",
    "Well since our pictures are 144x256x3, why don't we just make a logististic regression unit with 144x256x3 = 110,592 units?"
   ]
  },
  {
   "cell_type": "code",
   "execution_count": null,
   "metadata": {},
   "outputs": [],
   "source": []
  }
 ],
 "metadata": {
  "kernelspec": {
   "display_name": "Python 3",
   "language": "python",
   "name": "python3"
  },
  "language_info": {
   "codemirror_mode": {
    "name": "ipython",
    "version": 3
   },
   "file_extension": ".py",
   "mimetype": "text/x-python",
   "name": "python",
   "nbconvert_exporter": "python",
   "pygments_lexer": "ipython3",
   "version": "3.8.2"
  }
 },
 "nbformat": 4,
 "nbformat_minor": 4
}
